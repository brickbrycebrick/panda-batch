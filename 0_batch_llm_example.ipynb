{
 "cells": [
  {
   "cell_type": "markdown",
   "id": "7df20837",
   "metadata": {},
   "source": [
    "# Overview\n",
    "\n",
    "This notebook demonstrates how to use the ```BatchProcessor``` class to processes lists of text or pandas dataframes with text columns efficiently in parallel using Azure OpenAI's API. The class provides a simple and efficient way to process large amounts of text data in parallel, with support for rate limiting and error handling.\n",
    "\n",
    "It also shows how to use pydantic models to structure LLM output and perform type validation which is **highly** recommended since the primary purpose of these tools is to extract structured data from unstructured text.\n",
    "\n",
    "## Notes\n",
    "- Be aware of when you are asking the LLM to extract things that might not be present in the text. This will cause hallucinations.\n"
   ]
  },
  {
   "cell_type": "code",
   "execution_count": 1,
   "id": "d72ed75e",
   "metadata": {},
   "outputs": [],
   "source": [
    "# Imports\n",
    "from utils.llm.batch_llm import BatchProcessor\n",
    "from utils.llm.llm_config import LLMConfig, LLMConfigs\n",
    "\n",
    "from pprint import pprint\n",
    "from pydantic import BaseModel\n",
    "import pandas as pd"
   ]
  },
  {
   "cell_type": "markdown",
   "id": "72f23355",
   "metadata": {},
   "source": [
    "# Processor Initialization\n",
    "\n",
    "The processor takes four arguments:\n",
    "1. model: The name of the Azure deployment to use. If none is specified, it looks for the AZURE_DEPLOYMENT_NAME environment variable.\n",
    "2. max_tokens_per_minute: The maximum number of tokens to use per minute which is set for the deployment in Azure AI foundery. The default is 704,000.\n",
    "3. safety_margin: A safety margin to apply to the token limit. This is needed because the actual token usage can vary from the estimated token usage. The default is 0.9 (90%).\n",
    "4. max_concurrent: The maximum number of concurrent requests to make. The default is 50.\n"
   ]
  },
  {
   "cell_type": "code",
   "execution_count": null,
   "id": "5a6a1141",
   "metadata": {},
   "outputs": [],
   "source": [
    "# Example Initialization\n",
    "\n",
    "config = LLMConfigs.openrouter(model=\"google/gemini-2.5-flash-lite\")\n",
    "processor = BatchProcessor(llm_config=config)"
   ]
  },
  {
   "cell_type": "markdown",
   "id": "0527db4d",
   "metadata": {},
   "source": [
    "# Process Single\n",
    "\n",
    "The ```process_single``` method takes a single text and an optional response model. The response model can be used to structure LLM output and perform type validation. "
   ]
  },
  {
   "cell_type": "code",
   "execution_count": 3,
   "id": "fa16af99",
   "metadata": {},
   "outputs": [
    {
     "name": "stdout",
     "output_type": "stream",
     "text": [
      "Book(title='The Name of the Wind', author='Patrick Rothfuss')\n",
      "<class '__main__.Book'>\n"
     ]
    }
   ],
   "source": [
    "# With response model, returns an instance of the model\n",
    "\n",
    "class Book(BaseModel):\n",
    "    title: str\n",
    "    author: str\n",
    "\n",
    "result = await processor.process_single(\"The Name of the Wind by Patrick Rothfuss\", response_model=Book)\n",
    "pprint(result)\n",
    "pprint(type(result))\n"
   ]
  },
  {
   "cell_type": "code",
   "execution_count": 4,
   "id": "26a07765",
   "metadata": {},
   "outputs": [
    {
     "name": "stdout",
     "output_type": "stream",
     "text": [
      "```json\n",
      "{\n",
      "  \"title\": \"The Name of the Wind\",\n",
      "  \"author\": \"Patrick Rothfuss\"\n",
      "}\n",
      "```\n",
      "<class 'str'>\n"
     ]
    }
   ],
   "source": [
    "# Without response model, returns a string\n",
    "\n",
    "result = await processor.process_single(\"Give the title and author of this book in json format: The Name of the Wind by Patrick Rothfuss\")\n",
    "print(result)\n",
    "print(type(result))"
   ]
  },
  {
   "cell_type": "markdown",
   "id": "2f9e07d2",
   "metadata": {},
   "source": [
    "# Process Batch\n",
    "\n",
    "The ```process_batch``` method takes a list of texts and an optional response model. When a response model is provided, the method returns a list of instances of the model that can be converted to JSON or other formats. \n",
    "\n",
    "Objects like this are often used in validation/serialization for APIs and when moving large volumes of data."
   ]
  },
  {
   "cell_type": "code",
   "execution_count": 5,
   "id": "b57af9ed",
   "metadata": {},
   "outputs": [
    {
     "name": "stdout",
     "output_type": "stream",
     "text": [
      "[Book(title='To Kill a Mockingbird', author='Harper Lee', year=1960),\n",
      " Book(title='The Great Gatsby', author='F. Scott Fitzgerald', year=1925),\n",
      " Book(title='1984', author='George Orwell', year=1949),\n",
      " Book(title='Pride and Prejudice', author='Jane Austen', year=1813),\n",
      " Book(title='One Hundred Years of Solitude', author='Gabriel García Márquez', year=1967)]\n"
     ]
    }
   ],
   "source": [
    "test_texts = [\n",
    "    \"To Kill a Mockingbird by Harper Lee (1960)\",\n",
    "    \"The Great Gatsby Author: F. Scott Fitzgerald Publication Year: 1925\",\n",
    "    \"Book: 1984 Writer: George Orwell Year: 1949\",\n",
    "    \"Austen, Jane. Pride and Prejudice. 1813.\",\n",
    "    \"One Hundred Years of Solitude - Gabriel García Márquez, published in 1967\"\n",
    "]\n",
    "\n",
    "class Book(BaseModel):\n",
    "    title: str\n",
    "    author: str\n",
    "    year: int\n",
    "\n",
    "results = await processor.process_batch(test_texts, response_model=Book)\n",
    "pprint(results)"
   ]
  },
  {
   "cell_type": "markdown",
   "id": "c8e918c7-075a-480d-9d5c-98042103df20",
   "metadata": {},
   "source": [
    "The base model is still optional:"
   ]
  },
  {
   "cell_type": "code",
   "execution_count": 6,
   "id": "61f47364-2484-4aac-8790-c14fa5c286c0",
   "metadata": {},
   "outputs": [
    {
     "name": "stdout",
     "output_type": "stream",
     "text": [
      "['To Kill a Mockingbird, Harper Lee, 1960', 'The Great Gatsby, F. Scott Fitzgerald, 1925', '1984, George Orwell, 1949', 'Pride and Prejudice, Jane Austen, 1813', 'One Hundred Years of Solitude, Gabriel García Márquez, 1967']\n"
     ]
    }
   ],
   "source": [
    "prompts = [\"Give the title, author and year of this book separated by commas: \" + book for book in test_texts]\n",
    "\n",
    "results = await processor.process_batch(prompts)\n",
    "print(results)"
   ]
  },
  {
   "cell_type": "markdown",
   "id": "fdca99d6",
   "metadata": {},
   "source": [
    "# Process Pandas Dataframe\n",
    "\n",
    "We can process a pandas dataframe by calling the ```process_df``` method. When a response model is provided, the method returns a dataframe with the same columns as the input dataframe, plus the columns specified in the response model.\n",
    "\n",
    "The ```prompt_column``` argument is the name of the column in the dataframe that contains the text to be processed."
   ]
  },
  {
   "cell_type": "code",
   "execution_count": 7,
   "id": "5a9f1f8e",
   "metadata": {},
   "outputs": [
    {
     "data": {
      "text/html": [
       "<div>\n",
       "<style scoped>\n",
       "    .dataframe tbody tr th:only-of-type {\n",
       "        vertical-align: middle;\n",
       "    }\n",
       "\n",
       "    .dataframe tbody tr th {\n",
       "        vertical-align: top;\n",
       "    }\n",
       "\n",
       "    .dataframe thead th {\n",
       "        text-align: right;\n",
       "    }\n",
       "</style>\n",
       "<table border=\"1\" class=\"dataframe\">\n",
       "  <thead>\n",
       "    <tr style=\"text-align: right;\">\n",
       "      <th></th>\n",
       "      <th>id</th>\n",
       "      <th>prompts</th>\n",
       "    </tr>\n",
       "  </thead>\n",
       "  <tbody>\n",
       "    <tr>\n",
       "      <th>0</th>\n",
       "      <td>1</td>\n",
       "      <td>To Kill a Mockingbird by Harper Lee (1960)</td>\n",
       "    </tr>\n",
       "    <tr>\n",
       "      <th>1</th>\n",
       "      <td>2</td>\n",
       "      <td>The Great Gatsby Author: F. Scott Fitzgerald P...</td>\n",
       "    </tr>\n",
       "    <tr>\n",
       "      <th>2</th>\n",
       "      <td>3</td>\n",
       "      <td>Book: 1984 Writer: George Orwell Year: 1949</td>\n",
       "    </tr>\n",
       "    <tr>\n",
       "      <th>3</th>\n",
       "      <td>4</td>\n",
       "      <td>Austen, Jane. Pride and Prejudice. 1813.</td>\n",
       "    </tr>\n",
       "    <tr>\n",
       "      <th>4</th>\n",
       "      <td>5</td>\n",
       "      <td>One Hundred Years of Solitude - Gabriel García...</td>\n",
       "    </tr>\n",
       "  </tbody>\n",
       "</table>\n",
       "</div>"
      ],
      "text/plain": [
       "   id                                            prompts\n",
       "0   1         To Kill a Mockingbird by Harper Lee (1960)\n",
       "1   2  The Great Gatsby Author: F. Scott Fitzgerald P...\n",
       "2   3        Book: 1984 Writer: George Orwell Year: 1949\n",
       "3   4           Austen, Jane. Pride and Prejudice. 1813.\n",
       "4   5  One Hundred Years of Solitude - Gabriel García..."
      ]
     },
     "metadata": {},
     "output_type": "display_data"
    }
   ],
   "source": [
    "# Test data\n",
    "test_texts = [\n",
    "    \"To Kill a Mockingbird by Harper Lee (1960)\",\n",
    "    \"The Great Gatsby Author: F. Scott Fitzgerald Publication Year: 1925\",\n",
    "    \"Book: 1984 Writer: George Orwell Year: 1949\",\n",
    "    \"Austen, Jane. Pride and Prejudice. 1813.\",\n",
    "    \"One Hundred Years of Solitude - Gabriel García Márquez, published in 1967\"\n",
    "]\n",
    "\n",
    "df = pd.DataFrame({'id': [1, 2, 3, 4, 5], 'prompts': test_texts})\n",
    "display(df)"
   ]
  },
  {
   "cell_type": "code",
   "execution_count": 9,
   "id": "33a61434",
   "metadata": {},
   "outputs": [
    {
     "data": {
      "text/html": [
       "<div>\n",
       "<style scoped>\n",
       "    .dataframe tbody tr th:only-of-type {\n",
       "        vertical-align: middle;\n",
       "    }\n",
       "\n",
       "    .dataframe tbody tr th {\n",
       "        vertical-align: top;\n",
       "    }\n",
       "\n",
       "    .dataframe thead th {\n",
       "        text-align: right;\n",
       "    }\n",
       "</style>\n",
       "<table border=\"1\" class=\"dataframe\">\n",
       "  <thead>\n",
       "    <tr style=\"text-align: right;\">\n",
       "      <th></th>\n",
       "      <th>id</th>\n",
       "      <th>prompts</th>\n",
       "      <th>title</th>\n",
       "      <th>author</th>\n",
       "      <th>year</th>\n",
       "    </tr>\n",
       "  </thead>\n",
       "  <tbody>\n",
       "    <tr>\n",
       "      <th>0</th>\n",
       "      <td>1</td>\n",
       "      <td>To Kill a Mockingbird by Harper Lee (1960)</td>\n",
       "      <td>To Kill a Mockingbird</td>\n",
       "      <td>Harper Lee</td>\n",
       "      <td>1960</td>\n",
       "    </tr>\n",
       "    <tr>\n",
       "      <th>1</th>\n",
       "      <td>2</td>\n",
       "      <td>The Great Gatsby Author: F. Scott Fitzgerald P...</td>\n",
       "      <td>The Great Gatsby</td>\n",
       "      <td>F. Scott Fitzgerald</td>\n",
       "      <td>1925</td>\n",
       "    </tr>\n",
       "    <tr>\n",
       "      <th>2</th>\n",
       "      <td>3</td>\n",
       "      <td>Book: 1984 Writer: George Orwell Year: 1949</td>\n",
       "      <td>1984</td>\n",
       "      <td>George Orwell</td>\n",
       "      <td>1949</td>\n",
       "    </tr>\n",
       "    <tr>\n",
       "      <th>3</th>\n",
       "      <td>4</td>\n",
       "      <td>Austen, Jane. Pride and Prejudice. 1813.</td>\n",
       "      <td>Pride and Prejudice</td>\n",
       "      <td>Jane Austen</td>\n",
       "      <td>1813</td>\n",
       "    </tr>\n",
       "    <tr>\n",
       "      <th>4</th>\n",
       "      <td>5</td>\n",
       "      <td>One Hundred Years of Solitude - Gabriel García...</td>\n",
       "      <td>One Hundred Years of Solitude</td>\n",
       "      <td>Gabriel García Márquez</td>\n",
       "      <td>1967</td>\n",
       "    </tr>\n",
       "  </tbody>\n",
       "</table>\n",
       "</div>"
      ],
      "text/plain": [
       "   id                                            prompts  \\\n",
       "0   1         To Kill a Mockingbird by Harper Lee (1960)   \n",
       "1   2  The Great Gatsby Author: F. Scott Fitzgerald P...   \n",
       "2   3        Book: 1984 Writer: George Orwell Year: 1949   \n",
       "3   4           Austen, Jane. Pride and Prejudice. 1813.   \n",
       "4   5  One Hundred Years of Solitude - Gabriel García...   \n",
       "\n",
       "                           title                  author  year  \n",
       "0          To Kill a Mockingbird              Harper Lee  1960  \n",
       "1               The Great Gatsby     F. Scott Fitzgerald  1925  \n",
       "2                           1984           George Orwell  1949  \n",
       "3            Pride and Prejudice             Jane Austen  1813  \n",
       "4  One Hundred Years of Solitude  Gabriel García Márquez  1967  "
      ]
     },
     "metadata": {},
     "output_type": "display_data"
    }
   ],
   "source": [
    "# With response model\n",
    "\n",
    "class Book(BaseModel):\n",
    "    title: str\n",
    "    author: str\n",
    "    year: int\n",
    "\n",
    "# The 'prompts' column contains the text to be processed\n",
    "results = await processor.process_dataframe(df, 'prompts', response_model=Book)\n",
    "display(results)"
   ]
  },
  {
   "cell_type": "markdown",
   "id": "16caa920-a283-4e8b-9133-e3c910507f47",
   "metadata": {},
   "source": [
    "We can also use the argument output_format=objects to return a list of objects, including all other columns in the input dataframe.\n",
    "\n",
    "This is useful for downstream logic, ie. using in an API or database."
   ]
  },
  {
   "cell_type": "code",
   "execution_count": 12,
   "id": "bd713277-3843-447a-86ce-579cd09a38ba",
   "metadata": {},
   "outputs": [
    {
     "name": "stdout",
     "output_type": "stream",
     "text": [
      "<class 'utils.llm.batch_llm.EnrichedBook'> \n",
      "\n"
     ]
    },
    {
     "data": {
      "text/plain": [
       "[EnrichedBook(title='To Kill a Mockingbird', author='Harper Lee', year=1960, id=1, prompts='To Kill a Mockingbird by Harper Lee (1960)'),\n",
       " EnrichedBook(title='The Great Gatsby', author='F. Scott Fitzgerald', year=1925, id=2, prompts='The Great Gatsby Author: F. Scott Fitzgerald Publication Year: 1925'),\n",
       " EnrichedBook(title='1984', author='George Orwell', year=1949, id=3, prompts='Book: 1984 Writer: George Orwell Year: 1949'),\n",
       " EnrichedBook(title='Pride and Prejudice', author='Jane Austen', year=1813, id=4, prompts='Austen, Jane. Pride and Prejudice. 1813.'),\n",
       " EnrichedBook(title='One Hundred Years of Solitude', author='Gabriel García Márquez', year=1967, id=5, prompts='One Hundred Years of Solitude - Gabriel García Márquez, published in 1967')]"
      ]
     },
     "metadata": {},
     "output_type": "display_data"
    }
   ],
   "source": [
    "class Book(BaseModel):\n",
    "    title: str\n",
    "    author: str\n",
    "    year: int\n",
    "    \n",
    "results = await processor.process_dataframe(df, 'prompts', response_model=Book, output_format='objects')\n",
    "print(type(results[0]), '\\n')\n",
    "display(results)"
   ]
  },
  {
   "cell_type": "markdown",
   "id": "ba8c4702-0dd8-4614-9efa-18ca63cd7378",
   "metadata": {},
   "source": [
    "## Without a response_model\n",
    "\n",
    "If you choose not to provide a response model, a llm_output column will be appended to the input dataframe."
   ]
  },
  {
   "cell_type": "code",
   "execution_count": 13,
   "id": "9925044d",
   "metadata": {},
   "outputs": [
    {
     "data": {
      "text/html": [
       "<div>\n",
       "<style scoped>\n",
       "    .dataframe tbody tr th:only-of-type {\n",
       "        vertical-align: middle;\n",
       "    }\n",
       "\n",
       "    .dataframe tbody tr th {\n",
       "        vertical-align: top;\n",
       "    }\n",
       "\n",
       "    .dataframe thead th {\n",
       "        text-align: right;\n",
       "    }\n",
       "</style>\n",
       "<table border=\"1\" class=\"dataframe\">\n",
       "  <thead>\n",
       "    <tr style=\"text-align: right;\">\n",
       "      <th></th>\n",
       "      <th>id</th>\n",
       "      <th>prompts</th>\n",
       "      <th>llm_output</th>\n",
       "    </tr>\n",
       "  </thead>\n",
       "  <tbody>\n",
       "    <tr>\n",
       "      <th>0</th>\n",
       "      <td>1</td>\n",
       "      <td>Give the title, author and published year of t...</td>\n",
       "      <td>To Kill a Mockingbird, Harper Lee, 1960</td>\n",
       "    </tr>\n",
       "    <tr>\n",
       "      <th>1</th>\n",
       "      <td>2</td>\n",
       "      <td>Give the title, author and published year of t...</td>\n",
       "      <td>The Great Gatsby, F. Scott Fitzgerald, 1925</td>\n",
       "    </tr>\n",
       "    <tr>\n",
       "      <th>2</th>\n",
       "      <td>3</td>\n",
       "      <td>Give the title, author and published year of t...</td>\n",
       "      <td>1984, George Orwell, 1949</td>\n",
       "    </tr>\n",
       "    <tr>\n",
       "      <th>3</th>\n",
       "      <td>4</td>\n",
       "      <td>Give the title, author and published year of t...</td>\n",
       "      <td>Pride and Prejudice, Jane Austen, 1813</td>\n",
       "    </tr>\n",
       "    <tr>\n",
       "      <th>4</th>\n",
       "      <td>5</td>\n",
       "      <td>Give the title, author and published year of t...</td>\n",
       "      <td>One Hundred Years of Solitude, Gabriel García ...</td>\n",
       "    </tr>\n",
       "  </tbody>\n",
       "</table>\n",
       "</div>"
      ],
      "text/plain": [
       "   id                                            prompts  \\\n",
       "0   1  Give the title, author and published year of t...   \n",
       "1   2  Give the title, author and published year of t...   \n",
       "2   3  Give the title, author and published year of t...   \n",
       "3   4  Give the title, author and published year of t...   \n",
       "4   5  Give the title, author and published year of t...   \n",
       "\n",
       "                                          llm_output  \n",
       "0            To Kill a Mockingbird, Harper Lee, 1960  \n",
       "1        The Great Gatsby, F. Scott Fitzgerald, 1925  \n",
       "2                          1984, George Orwell, 1949  \n",
       "3             Pride and Prejudice, Jane Austen, 1813  \n",
       "4  One Hundred Years of Solitude, Gabriel García ...  "
      ]
     },
     "metadata": {},
     "output_type": "display_data"
    }
   ],
   "source": [
    "df['prompts'] = 'Give the title, author and published year of this book separated by a comma: ' + df['prompts']\n",
    "\n",
    "results = await processor.process_dataframe(df, 'prompts')\n",
    "display(results)"
   ]
  },
  {
   "cell_type": "markdown",
   "id": "dfffcc95-a5bd-4969-8a80-cd3e0bc7d0f4",
   "metadata": {},
   "source": [
    "# Daisy Chaining Models\n",
    "\n",
    "This also makes it easy to see how the the outputs of multiple models compare for a given task."
   ]
  },
  {
   "cell_type": "code",
   "execution_count": 11,
   "id": "43f96b34-801a-49ac-8066-0f93f5da54e9",
   "metadata": {
    "editable": true,
    "slideshow": {
     "slide_type": ""
    },
    "tags": []
   },
   "outputs": [
    {
     "data": {
      "text/html": [
       "<div>\n",
       "<style scoped>\n",
       "    .dataframe tbody tr th:only-of-type {\n",
       "        vertical-align: middle;\n",
       "    }\n",
       "\n",
       "    .dataframe tbody tr th {\n",
       "        vertical-align: top;\n",
       "    }\n",
       "\n",
       "    .dataframe thead th {\n",
       "        text-align: right;\n",
       "    }\n",
       "</style>\n",
       "<table border=\"1\" class=\"dataframe\">\n",
       "  <thead>\n",
       "    <tr style=\"text-align: right;\">\n",
       "      <th></th>\n",
       "      <th>question</th>\n",
       "      <th>answer</th>\n",
       "    </tr>\n",
       "  </thead>\n",
       "  <tbody>\n",
       "    <tr>\n",
       "      <th>0</th>\n",
       "      <td>Natalia sold clips to 48 of her friends in April, and then she sold half as many clips in May. How many clips did Natalia sell altogether in April and May?</td>\n",
       "      <td>Natalia sold 48/2 = &lt;&lt;48/2=24&gt;&gt;24 clips in May.\\nNatalia sold 48+24 = &lt;&lt;48+24=72&gt;&gt;72 clips altogether in April and May.\\n#### 72</td>\n",
       "    </tr>\n",
       "    <tr>\n",
       "      <th>1</th>\n",
       "      <td>Weng earns $12 an hour for babysitting. Yesterday, she just did 50 minutes of babysitting. How much did she earn?</td>\n",
       "      <td>Weng earns 12/60 = $&lt;&lt;12/60=0.2&gt;&gt;0.2 per minute.\\nWorking 50 minutes, she earned 0.2 x 50 = $&lt;&lt;0.2*50=10&gt;&gt;10.\\n#### 10</td>\n",
       "    </tr>\n",
       "    <tr>\n",
       "      <th>2</th>\n",
       "      <td>Betty is saving money for a new wallet which costs $100. Betty has only half of the money she needs. Her parents decided to give her $15 for that purpose, and her grandparents twice as much as her parents. How much more money does Betty need to buy the wallet?</td>\n",
       "      <td>In the beginning, Betty has only 100 / 2 = $&lt;&lt;100/2=50&gt;&gt;50.\\nBetty's grandparents gave her 15 * 2 = $&lt;&lt;15*2=30&gt;&gt;30.\\nThis means, Betty needs 100 - 50 - 30 - 15 = $&lt;&lt;100-50-30-15=5&gt;&gt;5 more.\\n#### 5</td>\n",
       "    </tr>\n",
       "    <tr>\n",
       "      <th>3</th>\n",
       "      <td>Julie is reading a 120-page book. Yesterday, she was able to read 12 pages and today, she read twice as many pages as yesterday. If she wants to read half of the remaining pages tomorrow, how many pages should she read?</td>\n",
       "      <td>Maila read 12 x 2 = &lt;&lt;12*2=24&gt;&gt;24 pages today.\\nSo she was able to read a total of 12 + 24 = &lt;&lt;12+24=36&gt;&gt;36 pages since yesterday.\\nThere are 120 - 36 = &lt;&lt;120-36=84&gt;&gt;84 pages left to be read.\\nSince she wants to read half of the remaining pages tomorrow, then she should read 84/2 = &lt;&lt;84/2=42&gt;&gt;42 pages.\\n#### 42</td>\n",
       "    </tr>\n",
       "    <tr>\n",
       "      <th>4</th>\n",
       "      <td>James writes a 3-page letter to 2 different friends twice a week.  How many pages does he write a year?</td>\n",
       "      <td>He writes each friend 3*2=&lt;&lt;3*2=6&gt;&gt;6 pages a week\\nSo he writes 6*2=&lt;&lt;6*2=12&gt;&gt;12 pages every week\\nThat means he writes 12*52=&lt;&lt;12*52=624&gt;&gt;624 pages a year\\n#### 624</td>\n",
       "    </tr>\n",
       "    <tr>\n",
       "      <th>5</th>\n",
       "      <td>Mark has a garden with flowers. He planted plants of three different colors in it. Ten of them are yellow, and there are 80% more of those in purple. There are only 25% as many green flowers as there are yellow and purple flowers. How many flowers does Mark have in his garden?</td>\n",
       "      <td>There are 80/100 * 10 = &lt;&lt;80/100*10=8&gt;&gt;8 more purple flowers than yellow flowers.\\nSo in Mark's garden, there are 10 + 8 = &lt;&lt;10+8=18&gt;&gt;18 purple flowers.\\nPurple and yellow flowers sum up to 10 + 18 = &lt;&lt;10+18=28&gt;&gt;28 flowers.\\nThat means in Mark's garden there are 25/100 * 28 = &lt;&lt;25/100*28=7&gt;&gt;7 green flowers.\\nSo in total Mark has 28 + 7 = &lt;&lt;28+7=35&gt;&gt;35 plants in his garden.\\n#### 35</td>\n",
       "    </tr>\n",
       "  </tbody>\n",
       "</table>\n",
       "</div>"
      ],
      "text/plain": [
       "                                                                                                                                                                                                                                                                                question  \\\n",
       "0                                                                                                                            Natalia sold clips to 48 of her friends in April, and then she sold half as many clips in May. How many clips did Natalia sell altogether in April and May?   \n",
       "1                                                                                                                                                                      Weng earns $12 an hour for babysitting. Yesterday, she just did 50 minutes of babysitting. How much did she earn?   \n",
       "2                   Betty is saving money for a new wallet which costs $100. Betty has only half of the money she needs. Her parents decided to give her $15 for that purpose, and her grandparents twice as much as her parents. How much more money does Betty need to buy the wallet?   \n",
       "3                                                            Julie is reading a 120-page book. Yesterday, she was able to read 12 pages and today, she read twice as many pages as yesterday. If she wants to read half of the remaining pages tomorrow, how many pages should she read?   \n",
       "4                                                                                                                                                                                James writes a 3-page letter to 2 different friends twice a week.  How many pages does he write a year?   \n",
       "5  Mark has a garden with flowers. He planted plants of three different colors in it. Ten of them are yellow, and there are 80% more of those in purple. There are only 25% as many green flowers as there are yellow and purple flowers. How many flowers does Mark have in his garden?   \n",
       "\n",
       "                                                                                                                                                                                                                                                                                                                                                                                             answer  \n",
       "0                                                                                                                                                                                                                                                                  Natalia sold 48/2 = <<48/2=24>>24 clips in May.\\nNatalia sold 48+24 = <<48+24=72>>72 clips altogether in April and May.\\n#### 72  \n",
       "1                                                                                                                                                                                                                                                                            Weng earns 12/60 = $<<12/60=0.2>>0.2 per minute.\\nWorking 50 minutes, she earned 0.2 x 50 = $<<0.2*50=10>>10.\\n#### 10  \n",
       "2                                                                                                                                                                                              In the beginning, Betty has only 100 / 2 = $<<100/2=50>>50.\\nBetty's grandparents gave her 15 * 2 = $<<15*2=30>>30.\\nThis means, Betty needs 100 - 50 - 30 - 15 = $<<100-50-30-15=5>>5 more.\\n#### 5  \n",
       "3                                                                          Maila read 12 x 2 = <<12*2=24>>24 pages today.\\nSo she was able to read a total of 12 + 24 = <<12+24=36>>36 pages since yesterday.\\nThere are 120 - 36 = <<120-36=84>>84 pages left to be read.\\nSince she wants to read half of the remaining pages tomorrow, then she should read 84/2 = <<84/2=42>>42 pages.\\n#### 42  \n",
       "4                                                                                                                                                                                                                             He writes each friend 3*2=<<3*2=6>>6 pages a week\\nSo he writes 6*2=<<6*2=12>>12 pages every week\\nThat means he writes 12*52=<<12*52=624>>624 pages a year\\n#### 624  \n",
       "5  There are 80/100 * 10 = <<80/100*10=8>>8 more purple flowers than yellow flowers.\\nSo in Mark's garden, there are 10 + 8 = <<10+8=18>>18 purple flowers.\\nPurple and yellow flowers sum up to 10 + 18 = <<10+18=28>>28 flowers.\\nThat means in Mark's garden there are 25/100 * 28 = <<25/100*28=7>>7 green flowers.\\nSo in total Mark has 28 + 7 = <<28+7=35>>35 plants in his garden.\\n#### 35  "
      ]
     },
     "metadata": {},
     "output_type": "display_data"
    }
   ],
   "source": [
    "# Import the gsm8k math benchmark from HuggingFace\n",
    "splits = {'train': 'main/train-00000-of-00001.parquet', 'test': 'main/test-00000-of-00001.parquet'}\n",
    "tasks = pd.read_parquet(\"hf://datasets/openai/gsm8k/\" + splits[\"train\"])[:6]\n",
    "\n",
    "\n",
    "# Set pandas options for better display\n",
    "pd.set_option('display.max_rows', None)  # Show all rows\n",
    "pd.set_option('display.max_columns', None)  # Show all columns\n",
    "pd.set_option('display.max_colwidth', None)  # Show full column content\n",
    "\n",
    "display(tasks)"
   ]
  },
  {
   "cell_type": "code",
   "execution_count": 13,
   "id": "24fd1425-7882-483f-b489-7968021c2921",
   "metadata": {},
   "outputs": [],
   "source": [
    "instructions = \"\"\"\n",
    "    You are a math problem solver. For each problem, show your work step-by-step and use the following format:\n",
    "    \n",
    "    1. Write each calculation step clearly\n",
    "    2. For any arithmetic operation, show it in double angle brackets with the calculation and result: <<calculation=result>>\n",
    "    3. End your response with \"#### [final_answer]\" where final_answer is just the numerical result\n",
    "    \n",
    "    Example:\n",
    "    Problem:  James is a first-year student at a University in Chicago. He has a budget of $1000 per semester. He spends 30% of his money on food, 15% on accommodation, 25% on entertainment, and the rest on coursework materials. How much money does he spend on coursework materials?\n",
    "    Response: Accommodation is 15% * $1000=$<<15*.01*1000=150>>150 Food is 30% * $1000=$<<30*.01*1000=300>>300 Entertainment is 25% * $1000=$<<25*.01*1000=250>>250 Coursework materials are thus $1000-($150+$300+$250) = $300 #### 300\n",
    "    \n",
    "    Always show intermediate calculations in the <<calculation=result>> format and conclude with #### followed by the final numerical answer.\n",
    "\n",
    "    Solve this problem:\\n\n",
    "\"\"\"\n",
    "\n",
    "tasks['question'] = instructions + tasks['question']\n"
   ]
  },
  {
   "cell_type": "code",
   "execution_count": 14,
   "id": "3edc40dd-f780-4e26-a37c-bcf557f5422b",
   "metadata": {
    "editable": true,
    "slideshow": {
     "slide_type": ""
    },
    "tags": []
   },
   "outputs": [
    {
     "data": {
      "text/html": [
       "<div>\n",
       "<style scoped>\n",
       "    .dataframe tbody tr th:only-of-type {\n",
       "        vertical-align: middle;\n",
       "    }\n",
       "\n",
       "    .dataframe tbody tr th {\n",
       "        vertical-align: top;\n",
       "    }\n",
       "\n",
       "    .dataframe thead th {\n",
       "        text-align: right;\n",
       "    }\n",
       "</style>\n",
       "<table border=\"1\" class=\"dataframe\">\n",
       "  <thead>\n",
       "    <tr style=\"text-align: right;\">\n",
       "      <th></th>\n",
       "      <th>question</th>\n",
       "      <th>answer</th>\n",
       "      <th>claude</th>\n",
       "      <th>qwen</th>\n",
       "      <th>gemini</th>\n",
       "    </tr>\n",
       "  </thead>\n",
       "  <tbody>\n",
       "    <tr>\n",
       "      <th>0</th>\n",
       "      <td>\\n    You are a math problem solver. For each problem, show your work step-by-step and use the following format:\\n\\n    1. Write each calculation step clearly\\n    2. For any arithmetic operation, show it in double angle brackets with the calculation and result: &lt;&lt;calculation=result&gt;&gt;\\n    3. End your response with \"#### [final_answer]\" where final_answer is just the numerical result\\n\\n    Example:\\n    Problem:  James is a first-year student at a University in Chicago. He has a budget of $1000 per semester. He spends 30% of his money on food, 15% on accommodation, 25% on entertainment, and the rest on coursework materials. How much money does he spend on coursework materials?\\n    Response: Accommodation is 15% * $1000=$&lt;&lt;15*.01*1000=150&gt;&gt;150 Food is 30% * $1000=$&lt;&lt;30*.01*1000=300&gt;&gt;300 Entertainment is 25% * $1000=$&lt;&lt;25*.01*1000=250&gt;&gt;250 Coursework materials are thus $1000-($150+$300+$250) = $300 #### 300\\n\\n    Always show intermediate calculations in the &lt;&lt;calculation=result&gt;&gt; format and conclude with #### followed by the final numerical answer.\\n\\n    Solve this problem:\\n\\n\\n    You are a math problem solver. For each problem, show your work step-by-step and use the following format:\\n\\n    1. Write each calculation step clearly\\n    2. For any arithmetic operation, show it in double angle brackets with the calculation and result: &lt;&lt;calculation=result&gt;&gt;\\n    3. End your response with \"#### [final_answer]\" where final_answer is just the numerical result\\n\\n    Example:\\n    Problem:  James is a first-year student at a University in Chicago. He has a budget of $1000 per semester. He spends 30% of his money on food, 15% on accommodation, 25% on entertainment, and the rest on coursework materials. How much money does he spend on coursework materials?\\n    Response: Accommodation is 15% * $1000=$&lt;&lt;15*.01*1000=150&gt;&gt;150 Food is 30% * $1000=$&lt;&lt;30*.01*1000=300&gt;&gt;300 Entertainment is 25% * $1000=$&lt;&lt;25*.01*1000=250&gt;&gt;250 Coursework materials are thus $1000-($150+$300+$250) = $300 #### 300\\n\\n    Always show intermediate calculations in the &lt;&lt;calculation=result&gt;&gt; format and conclude with #### followed by the final numerical answer.\\n\\n    Solve this problem:\\n\\nNatalia sold clips to 48 of her friends in April, and then she sold half as many clips in May. How many clips did Natalia sell altogether in April and May?</td>\n",
       "      <td>Natalia sold 48/2 = &lt;&lt;48/2=24&gt;&gt;24 clips in May.\\nNatalia sold 48+24 = &lt;&lt;48+24=72&gt;&gt;72 clips altogether in April and May.\\n#### 72</td>\n",
       "      <td>I need to find the total number of clips Natalia sold in April and May.\\n\\nFirst, let me identify what I know:\\n- In April, Natalia sold clips to 48 friends\\n- In May, she sold half as many clips as in April\\n\\nLet me calculate the number of clips sold in May:\\nMay sales = half of April sales = 48 ÷ 2 = &lt;&lt;48/2=24&gt;&gt;24 clips\\n\\nNow I can find the total clips sold in both months:\\nTotal clips = April clips + May clips = 48 + 24 = &lt;&lt;48+24=72&gt;&gt;72 clips\\n\\n#### 72</td>\n",
       "      <td>Natalia sold 48 clips in April.  \\nIn May, she sold half as many clips as in April.  \\n\\nClips sold in May = 48 ÷ 2 = &lt;&lt;48/2=24&gt;&gt;24  \\n\\nTotal clips sold in April and May = 48 + 24 = &lt;&lt;48+24=72&gt;&gt;72  \\n\\n#### 72</td>\n",
       "      <td>Natalia sold 48 clips in April.\\nIn May, she sold half as many clips as in April.\\n\\nNumber of clips sold in May = &lt;&lt;48/2=24&gt;&gt;24\\n\\nTotal number of clips sold altogether in April and May = Number of clips sold in April + Number of clips sold in May.\\nTotal clips sold = 48 + 24\\n\\nTotal clips sold = &lt;&lt;48+24=72&gt;&gt;72\\n#### 72</td>\n",
       "    </tr>\n",
       "    <tr>\n",
       "      <th>1</th>\n",
       "      <td>\\n    You are a math problem solver. For each problem, show your work step-by-step and use the following format:\\n\\n    1. Write each calculation step clearly\\n    2. For any arithmetic operation, show it in double angle brackets with the calculation and result: &lt;&lt;calculation=result&gt;&gt;\\n    3. End your response with \"#### [final_answer]\" where final_answer is just the numerical result\\n\\n    Example:\\n    Problem:  James is a first-year student at a University in Chicago. He has a budget of $1000 per semester. He spends 30% of his money on food, 15% on accommodation, 25% on entertainment, and the rest on coursework materials. How much money does he spend on coursework materials?\\n    Response: Accommodation is 15% * $1000=$&lt;&lt;15*.01*1000=150&gt;&gt;150 Food is 30% * $1000=$&lt;&lt;30*.01*1000=300&gt;&gt;300 Entertainment is 25% * $1000=$&lt;&lt;25*.01*1000=250&gt;&gt;250 Coursework materials are thus $1000-($150+$300+$250) = $300 #### 300\\n\\n    Always show intermediate calculations in the &lt;&lt;calculation=result&gt;&gt; format and conclude with #### followed by the final numerical answer.\\n\\n    Solve this problem:\\n\\n\\n    You are a math problem solver. For each problem, show your work step-by-step and use the following format:\\n\\n    1. Write each calculation step clearly\\n    2. For any arithmetic operation, show it in double angle brackets with the calculation and result: &lt;&lt;calculation=result&gt;&gt;\\n    3. End your response with \"#### [final_answer]\" where final_answer is just the numerical result\\n\\n    Example:\\n    Problem:  James is a first-year student at a University in Chicago. He has a budget of $1000 per semester. He spends 30% of his money on food, 15% on accommodation, 25% on entertainment, and the rest on coursework materials. How much money does he spend on coursework materials?\\n    Response: Accommodation is 15% * $1000=$&lt;&lt;15*.01*1000=150&gt;&gt;150 Food is 30% * $1000=$&lt;&lt;30*.01*1000=300&gt;&gt;300 Entertainment is 25% * $1000=$&lt;&lt;25*.01*1000=250&gt;&gt;250 Coursework materials are thus $1000-($150+$300+$250) = $300 #### 300\\n\\n    Always show intermediate calculations in the &lt;&lt;calculation=result&gt;&gt; format and conclude with #### followed by the final numerical answer.\\n\\n    Solve this problem:\\n\\nWeng earns $12 an hour for babysitting. Yesterday, she just did 50 minutes of babysitting. How much did she earn?</td>\n",
       "      <td>Weng earns 12/60 = $&lt;&lt;12/60=0.2&gt;&gt;0.2 per minute.\\nWorking 50 minutes, she earned 0.2 x 50 = $&lt;&lt;0.2*50=10&gt;&gt;10.\\n#### 10</td>\n",
       "      <td>I need to calculate how much Weng earned for 50 minutes of babysitting at $12 per hour.\\n\\nFirst, I'll convert 50 minutes to hours:\\n50 minutes = 50/60 hours = &lt;&lt;50/60=0.8333&gt;&gt;0.8333 hours\\n\\nNow I'll calculate her earnings:\\nEarnings = hourly rate × hours worked\\nEarnings = $12 × 0.8333 hours = &lt;&lt;12*0.8333=10&gt;&gt;10\\n\\n#### 10</td>\n",
       "      <td>Weng earns $12 per hour.  \\nShe worked for 50 minutes, which is less than an hour.  \\nFirst, convert 50 minutes to hours:  \\n&lt;&lt;50/60=0.8333&gt;&gt;0.8333 hours (approximately).\\n\\nNow, multiply her hourly rate by the time worked:  \\n&lt;&lt;12 * 0.8333 = 10&gt;&gt;  \\n\\nSo, Weng earned $10.  \\n#### 10</td>\n",
       "      <td>Weng earns $12 per hour.\\nFirst, convert the minutes of babysitting to hours.\\nThere are 60 minutes in an hour.\\nSo, 50 minutes is &lt;&lt;50/60=0.8333333333333334&gt;&gt;0.8333333333333334 hours.\\nNow, calculate Weng's earnings by multiplying her hourly rate by the number of hours she worked.\\nEarnings = Hourly Rate × Hours Worked\\nEarnings = $12/hour × 0.8333333333333334 hours\\nEarnings = &lt;&lt;12*0.8333333333333334=10&gt;&gt;10\\n\\n#### 10</td>\n",
       "    </tr>\n",
       "    <tr>\n",
       "      <th>2</th>\n",
       "      <td>\\n    You are a math problem solver. For each problem, show your work step-by-step and use the following format:\\n\\n    1. Write each calculation step clearly\\n    2. For any arithmetic operation, show it in double angle brackets with the calculation and result: &lt;&lt;calculation=result&gt;&gt;\\n    3. End your response with \"#### [final_answer]\" where final_answer is just the numerical result\\n\\n    Example:\\n    Problem:  James is a first-year student at a University in Chicago. He has a budget of $1000 per semester. He spends 30% of his money on food, 15% on accommodation, 25% on entertainment, and the rest on coursework materials. How much money does he spend on coursework materials?\\n    Response: Accommodation is 15% * $1000=$&lt;&lt;15*.01*1000=150&gt;&gt;150 Food is 30% * $1000=$&lt;&lt;30*.01*1000=300&gt;&gt;300 Entertainment is 25% * $1000=$&lt;&lt;25*.01*1000=250&gt;&gt;250 Coursework materials are thus $1000-($150+$300+$250) = $300 #### 300\\n\\n    Always show intermediate calculations in the &lt;&lt;calculation=result&gt;&gt; format and conclude with #### followed by the final numerical answer.\\n\\n    Solve this problem:\\n\\n\\n    You are a math problem solver. For each problem, show your work step-by-step and use the following format:\\n\\n    1. Write each calculation step clearly\\n    2. For any arithmetic operation, show it in double angle brackets with the calculation and result: &lt;&lt;calculation=result&gt;&gt;\\n    3. End your response with \"#### [final_answer]\" where final_answer is just the numerical result\\n\\n    Example:\\n    Problem:  James is a first-year student at a University in Chicago. He has a budget of $1000 per semester. He spends 30% of his money on food, 15% on accommodation, 25% on entertainment, and the rest on coursework materials. How much money does he spend on coursework materials?\\n    Response: Accommodation is 15% * $1000=$&lt;&lt;15*.01*1000=150&gt;&gt;150 Food is 30% * $1000=$&lt;&lt;30*.01*1000=300&gt;&gt;300 Entertainment is 25% * $1000=$&lt;&lt;25*.01*1000=250&gt;&gt;250 Coursework materials are thus $1000-($150+$300+$250) = $300 #### 300\\n\\n    Always show intermediate calculations in the &lt;&lt;calculation=result&gt;&gt; format and conclude with #### followed by the final numerical answer.\\n\\n    Solve this problem:\\n\\nBetty is saving money for a new wallet which costs $100. Betty has only half of the money she needs. Her parents decided to give her $15 for that purpose, and her grandparents twice as much as her parents. How much more money does Betty need to buy the wallet?</td>\n",
       "      <td>In the beginning, Betty has only 100 / 2 = $&lt;&lt;100/2=50&gt;&gt;50.\\nBetty's grandparents gave her 15 * 2 = $&lt;&lt;15*2=30&gt;&gt;30.\\nThis means, Betty needs 100 - 50 - 30 - 15 = $&lt;&lt;100-50-30-15=5&gt;&gt;5 more.\\n#### 5</td>\n",
       "      <td>I need to find how much more money Betty needs to buy the $100 wallet.\\n\\nFirst, let me find how much money Betty currently has:\\nBetty has half of what she needs for the $100 wallet.\\nBetty's current money = $&lt;&lt;100/2=50&gt;&gt;50\\n\\nNext, let me calculate how much her parents give her:\\nParents give Betty = $15\\n\\nNow, let me calculate how much her grandparents give her:\\nGrandparents give twice as much as parents = $&lt;&lt;2*15=30&gt;&gt;30\\n\\nLet me find Betty's total money after receiving gifts:\\nTotal money = Betty's current money + parents' gift + grandparents' gift\\nTotal money = $&lt;&lt;50+15+30=95&gt;&gt;95\\n\\nFinally, let me calculate how much more money Betty needs:\\nMoney still needed = Cost of wallet - Total money Betty has\\nMoney still needed = $&lt;&lt;100-95=5&gt;&gt;5\\n\\n#### 5</td>\n",
       "      <td>Betty needs $100 for the wallet.  \\nShe currently has half of the money needed:  \\n&lt;&lt;100 * 0.5 = 50&gt;&gt;50  \\n\\nHer parents give her $15:  \\n&lt;&lt;15 = 15&gt;&gt;15  \\n\\nHer grandparents give her twice as much as her parents:  \\n&lt;&lt;2 * 15 = 30&gt;&gt;30  \\n\\nTotal money Betty now has:  \\n&lt;&lt;50 + 15 + 30 = 95&gt;&gt;95  \\n\\nAmount still needed:  \\n&lt;&lt;100 - 95 = 5&gt;&gt;5  \\n\\n#### 5</td>\n",
       "      <td>Betty needs $100 for the wallet.\\nBetty has half of the money she needs, which is $100 / 2 = $&lt;&lt;100/2=50&gt;&gt;50.\\n\\nHer parents give her $15.\\nHer grandparents give her twice as much as her parents, which is $15 * 2 = $&lt;&lt;15*2=30&gt;&gt;30.\\n\\nThe total amount of money Betty has now is the money she initially had plus the money from her parents and grandparents: $50 + $15 + $30 = $&lt;&lt;50+15+30=95&gt;&gt;95.\\n\\nThe amount of money Betty still needs is the cost of the wallet minus the money she currently has: $100 - $95 = $&lt;&lt;100-95=5&gt;&gt;5.\\n\\n#### 5</td>\n",
       "    </tr>\n",
       "    <tr>\n",
       "      <th>3</th>\n",
       "      <td>\\n    You are a math problem solver. For each problem, show your work step-by-step and use the following format:\\n\\n    1. Write each calculation step clearly\\n    2. For any arithmetic operation, show it in double angle brackets with the calculation and result: &lt;&lt;calculation=result&gt;&gt;\\n    3. End your response with \"#### [final_answer]\" where final_answer is just the numerical result\\n\\n    Example:\\n    Problem:  James is a first-year student at a University in Chicago. He has a budget of $1000 per semester. He spends 30% of his money on food, 15% on accommodation, 25% on entertainment, and the rest on coursework materials. How much money does he spend on coursework materials?\\n    Response: Accommodation is 15% * $1000=$&lt;&lt;15*.01*1000=150&gt;&gt;150 Food is 30% * $1000=$&lt;&lt;30*.01*1000=300&gt;&gt;300 Entertainment is 25% * $1000=$&lt;&lt;25*.01*1000=250&gt;&gt;250 Coursework materials are thus $1000-($150+$300+$250) = $300 #### 300\\n\\n    Always show intermediate calculations in the &lt;&lt;calculation=result&gt;&gt; format and conclude with #### followed by the final numerical answer.\\n\\n    Solve this problem:\\n\\n\\n    You are a math problem solver. For each problem, show your work step-by-step and use the following format:\\n\\n    1. Write each calculation step clearly\\n    2. For any arithmetic operation, show it in double angle brackets with the calculation and result: &lt;&lt;calculation=result&gt;&gt;\\n    3. End your response with \"#### [final_answer]\" where final_answer is just the numerical result\\n\\n    Example:\\n    Problem:  James is a first-year student at a University in Chicago. He has a budget of $1000 per semester. He spends 30% of his money on food, 15% on accommodation, 25% on entertainment, and the rest on coursework materials. How much money does he spend on coursework materials?\\n    Response: Accommodation is 15% * $1000=$&lt;&lt;15*.01*1000=150&gt;&gt;150 Food is 30% * $1000=$&lt;&lt;30*.01*1000=300&gt;&gt;300 Entertainment is 25% * $1000=$&lt;&lt;25*.01*1000=250&gt;&gt;250 Coursework materials are thus $1000-($150+$300+$250) = $300 #### 300\\n\\n    Always show intermediate calculations in the &lt;&lt;calculation=result&gt;&gt; format and conclude with #### followed by the final numerical answer.\\n\\n    Solve this problem:\\n\\nJulie is reading a 120-page book. Yesterday, she was able to read 12 pages and today, she read twice as many pages as yesterday. If she wants to read half of the remaining pages tomorrow, how many pages should she read?</td>\n",
       "      <td>Maila read 12 x 2 = &lt;&lt;12*2=24&gt;&gt;24 pages today.\\nSo she was able to read a total of 12 + 24 = &lt;&lt;12+24=36&gt;&gt;36 pages since yesterday.\\nThere are 120 - 36 = &lt;&lt;120-36=84&gt;&gt;84 pages left to be read.\\nSince she wants to read half of the remaining pages tomorrow, then she should read 84/2 = &lt;&lt;84/2=42&gt;&gt;42 pages.\\n#### 42</td>\n",
       "      <td>I need to find how many pages Julie should read tomorrow, which is half of the remaining pages after yesterday and today.\\n\\nFirst, let me calculate how many pages Julie read today:\\nToday she read twice as many pages as yesterday, so she read 2 × 12 = &lt;&lt;2*12=24&gt;&gt;24 pages.\\n\\nNext, let me find the total pages read so far:\\nTotal pages read = yesterday's pages + today's pages = 12 + 24 = &lt;&lt;12+24=36&gt;&gt;36 pages.\\n\\nNow I'll calculate the remaining pages:\\nRemaining pages = total pages in book - pages already read = 120 - 36 = &lt;&lt;120-36=84&gt;&gt;84 pages.\\n\\nFinally, I'll find how many pages she should read tomorrow:\\nTomorrow she wants to read half of the remaining pages = 84 ÷ 2 = &lt;&lt;84/2=42&gt;&gt;42 pages.\\n\\n#### 42</td>\n",
       "      <td>Julie's book has 120 pages in total.  \\nYesterday, she read 12 pages.  \\nToday, she read twice as many pages as yesterday, so today she read:  \\n&lt;&lt;2 * 12 = 24&gt;&gt;24 pages  \\n\\nTotal pages read so far:  \\n&lt;&lt;12 + 24 = 36&gt;&gt;36 pages  \\n\\nRemaining pages in the book:  \\n&lt;&lt;120 - 36 = 84&gt;&gt;84 pages  \\n\\nShe wants to read half of the remaining pages tomorrow:  \\n&lt;&lt;84 / 2 = 42&gt;&gt;42 pages  \\n\\n#### 42</td>\n",
       "      <td>Yesterday, Julie read 12 pages.\\nToday, she read twice as many pages as yesterday.\\nNumber of pages read today = &lt;&lt;2 * 12=24&gt;&gt;24 pages.\\n\\nTotal pages read so far = Pages read yesterday + Pages read today\\nTotal pages read so far = &lt;&lt;12 + 24=36&gt;&gt;36 pages.\\n\\nTotal pages in the book is 120 pages.\\nRemaining pages = Total pages - Total pages read so far\\nRemaining pages = &lt;&lt;120 - 36=84&gt;&gt;84 pages.\\n\\nTomorrow, Julie wants to read half of the remaining pages.\\nNumber of pages to read tomorrow = &lt;&lt;84 / 2=42&gt;&gt;42 pages.\\n\\n#### 42</td>\n",
       "    </tr>\n",
       "    <tr>\n",
       "      <th>4</th>\n",
       "      <td>\\n    You are a math problem solver. For each problem, show your work step-by-step and use the following format:\\n\\n    1. Write each calculation step clearly\\n    2. For any arithmetic operation, show it in double angle brackets with the calculation and result: &lt;&lt;calculation=result&gt;&gt;\\n    3. End your response with \"#### [final_answer]\" where final_answer is just the numerical result\\n\\n    Example:\\n    Problem:  James is a first-year student at a University in Chicago. He has a budget of $1000 per semester. He spends 30% of his money on food, 15% on accommodation, 25% on entertainment, and the rest on coursework materials. How much money does he spend on coursework materials?\\n    Response: Accommodation is 15% * $1000=$&lt;&lt;15*.01*1000=150&gt;&gt;150 Food is 30% * $1000=$&lt;&lt;30*.01*1000=300&gt;&gt;300 Entertainment is 25% * $1000=$&lt;&lt;25*.01*1000=250&gt;&gt;250 Coursework materials are thus $1000-($150+$300+$250) = $300 #### 300\\n\\n    Always show intermediate calculations in the &lt;&lt;calculation=result&gt;&gt; format and conclude with #### followed by the final numerical answer.\\n\\n    Solve this problem:\\n\\n\\n    You are a math problem solver. For each problem, show your work step-by-step and use the following format:\\n\\n    1. Write each calculation step clearly\\n    2. For any arithmetic operation, show it in double angle brackets with the calculation and result: &lt;&lt;calculation=result&gt;&gt;\\n    3. End your response with \"#### [final_answer]\" where final_answer is just the numerical result\\n\\n    Example:\\n    Problem:  James is a first-year student at a University in Chicago. He has a budget of $1000 per semester. He spends 30% of his money on food, 15% on accommodation, 25% on entertainment, and the rest on coursework materials. How much money does he spend on coursework materials?\\n    Response: Accommodation is 15% * $1000=$&lt;&lt;15*.01*1000=150&gt;&gt;150 Food is 30% * $1000=$&lt;&lt;30*.01*1000=300&gt;&gt;300 Entertainment is 25% * $1000=$&lt;&lt;25*.01*1000=250&gt;&gt;250 Coursework materials are thus $1000-($150+$300+$250) = $300 #### 300\\n\\n    Always show intermediate calculations in the &lt;&lt;calculation=result&gt;&gt; format and conclude with #### followed by the final numerical answer.\\n\\n    Solve this problem:\\n\\nJames writes a 3-page letter to 2 different friends twice a week.  How many pages does he write a year?</td>\n",
       "      <td>He writes each friend 3*2=&lt;&lt;3*2=6&gt;&gt;6 pages a week\\nSo he writes 6*2=&lt;&lt;6*2=12&gt;&gt;12 pages every week\\nThat means he writes 12*52=&lt;&lt;12*52=624&gt;&gt;624 pages a year\\n#### 624</td>\n",
       "      <td>I need to find the total number of pages James writes in a year.\\n\\nLet me break this down step by step:\\n\\nFirst, I'll calculate how many pages he writes per letter:\\n- Each letter is 3 pages\\n\\nNext, I'll calculate how many letters he writes per week:\\n- He writes to 2 different friends\\n- He does this twice a week\\n- So total letters per week = &lt;&lt;2*2=4&gt;&gt;4 letters\\n\\nNow I'll calculate pages per week:\\n- Pages per week = 4 letters × 3 pages per letter = &lt;&lt;4*3=12&gt;&gt;12 pages\\n\\nFinally, I'll calculate pages per year:\\n- There are 52 weeks in a year\\n- Pages per year = 12 pages per week × 52 weeks = &lt;&lt;12*52=624&gt;&gt;624 pages\\n\\n#### 624</td>\n",
       "      <td>James writes a 3-page letter to 2 different friends, so per writing session, he writes:  \\n3 pages × 2 friends = &lt;&lt;3*2=6&gt;&gt;6 pages  \\n\\nHe does this twice a week, so per week he writes:  \\n6 pages × 2 = &lt;&lt;6*2=12&gt;&gt;12 pages  \\n\\nThere are 52 weeks in a year, so the total number of pages he writes in a year is:  \\n12 pages/week × 52 weeks = &lt;&lt;12*52=624&gt;&gt;624 pages  \\n\\n#### 624</td>\n",
       "      <td>James writes a 3-page letter to 2 friends.\\nThis means for each friend, he writes 3 pages.\\nTotal pages per letter to one friend = 3 pages.\\n\\nHe writes to 2 different friends.\\nTotal pages written to both friends for one writing session = 3 pages/friend * 2 friends &lt;&lt;3*2=6&gt;&gt; 6 pages.\\n\\nHe writes twice a week.\\nTotal pages written per week = 6 pages/session * 2 sessions/week &lt;&lt;6*2=12&gt;&gt; 12 pages.\\n\\nThere are 52 weeks in a year.\\nTotal pages written per year = 12 pages/week * 52 weeks/year &lt;&lt;12*52=624&gt;&gt; 624 pages.\\n\\n#### 624</td>\n",
       "    </tr>\n",
       "    <tr>\n",
       "      <th>5</th>\n",
       "      <td>\\n    You are a math problem solver. For each problem, show your work step-by-step and use the following format:\\n\\n    1. Write each calculation step clearly\\n    2. For any arithmetic operation, show it in double angle brackets with the calculation and result: &lt;&lt;calculation=result&gt;&gt;\\n    3. End your response with \"#### [final_answer]\" where final_answer is just the numerical result\\n\\n    Example:\\n    Problem:  James is a first-year student at a University in Chicago. He has a budget of $1000 per semester. He spends 30% of his money on food, 15% on accommodation, 25% on entertainment, and the rest on coursework materials. How much money does he spend on coursework materials?\\n    Response: Accommodation is 15% * $1000=$&lt;&lt;15*.01*1000=150&gt;&gt;150 Food is 30% * $1000=$&lt;&lt;30*.01*1000=300&gt;&gt;300 Entertainment is 25% * $1000=$&lt;&lt;25*.01*1000=250&gt;&gt;250 Coursework materials are thus $1000-($150+$300+$250) = $300 #### 300\\n\\n    Always show intermediate calculations in the &lt;&lt;calculation=result&gt;&gt; format and conclude with #### followed by the final numerical answer.\\n\\n    Solve this problem:\\n\\n\\n    You are a math problem solver. For each problem, show your work step-by-step and use the following format:\\n\\n    1. Write each calculation step clearly\\n    2. For any arithmetic operation, show it in double angle brackets with the calculation and result: &lt;&lt;calculation=result&gt;&gt;\\n    3. End your response with \"#### [final_answer]\" where final_answer is just the numerical result\\n\\n    Example:\\n    Problem:  James is a first-year student at a University in Chicago. He has a budget of $1000 per semester. He spends 30% of his money on food, 15% on accommodation, 25% on entertainment, and the rest on coursework materials. How much money does he spend on coursework materials?\\n    Response: Accommodation is 15% * $1000=$&lt;&lt;15*.01*1000=150&gt;&gt;150 Food is 30% * $1000=$&lt;&lt;30*.01*1000=300&gt;&gt;300 Entertainment is 25% * $1000=$&lt;&lt;25*.01*1000=250&gt;&gt;250 Coursework materials are thus $1000-($150+$300+$250) = $300 #### 300\\n\\n    Always show intermediate calculations in the &lt;&lt;calculation=result&gt;&gt; format and conclude with #### followed by the final numerical answer.\\n\\n    Solve this problem:\\n\\nMark has a garden with flowers. He planted plants of three different colors in it. Ten of them are yellow, and there are 80% more of those in purple. There are only 25% as many green flowers as there are yellow and purple flowers. How many flowers does Mark have in his garden?</td>\n",
       "      <td>There are 80/100 * 10 = &lt;&lt;80/100*10=8&gt;&gt;8 more purple flowers than yellow flowers.\\nSo in Mark's garden, there are 10 + 8 = &lt;&lt;10+8=18&gt;&gt;18 purple flowers.\\nPurple and yellow flowers sum up to 10 + 18 = &lt;&lt;10+18=28&gt;&gt;28 flowers.\\nThat means in Mark's garden there are 25/100 * 28 = &lt;&lt;25/100*28=7&gt;&gt;7 green flowers.\\nSo in total Mark has 28 + 7 = &lt;&lt;28+7=35&gt;&gt;35 plants in his garden.\\n#### 35</td>\n",
       "      <td>I need to find the total number of flowers in Mark's garden by calculating the number of each color.\\n\\nFirst, let me find the number of yellow flowers:\\nYellow flowers = 10\\n\\nNext, let me find the number of purple flowers:\\nPurple flowers are 80% more than yellow flowers.\\n80% of yellow flowers = &lt;&lt;80*0.01*10=8&gt;&gt;8\\nPurple flowers = yellow flowers + 80% more = &lt;&lt;10+8=18&gt;&gt;18\\n\\nNow let me find the total of yellow and purple flowers:\\nYellow + Purple = &lt;&lt;10+18=28&gt;&gt;28\\n\\nNext, let me find the number of green flowers:\\nGreen flowers are 25% of the total yellow and purple flowers.\\nGreen flowers = 25% of 28 = &lt;&lt;25*0.01*28=7&gt;&gt;7\\n\\nFinally, let me find the total number of flowers:\\nTotal flowers = Yellow + Purple + Green = &lt;&lt;10+18+7=35&gt;&gt;35\\n\\n#### 35</td>\n",
       "      <td>Yellow flowers: 10\\n\\nPurple flowers: There are 80% more purple flowers than yellow flowers.  \\nSo, number of purple flowers = 10 + (80% of 10)  \\n&lt;&lt;80*.01*10=8&gt;&gt;  \\n&lt;&lt;10+8=18&gt;&gt;  \\nSo, there are 18 purple flowers.\\n\\nTotal yellow and purple flowers = 10 + 18  \\n&lt;&lt;10+18=28&gt;&gt;\\n\\nGreen flowers: There are 25% as many green flowers as there are yellow and purple flowers combined.  \\n&lt;&lt;25*.01*28=7&gt;&gt;  \\nSo, there are 7 green flowers.\\n\\nTotal flowers in the garden = yellow + purple + green  \\n&lt;&lt;10+18+7=35&gt;&gt;\\n\\n#### 35</td>\n",
       "      <td>Number of yellow flowers = 10.\\nNumber of purple flowers is 80% more than the yellow flowers.\\nIncrease in purple flowers = 80% of 10 = &lt;&lt;0.80 * 10 = 8&gt;&gt;8\\nNumber of purple flowers = Number of yellow flowers + Increase in purple flowers = 10 + 8 = 18.\\nTotal number of yellow and purple flowers = 10 + 18 = 28.\\nNumber of green flowers is 25% of the total number of yellow and purple flowers.\\nNumber of green flowers = 25% of 28 = &lt;&lt;0.25 * 28 = 7&gt;&gt;7\\nTotal number of flowers in the garden = Number of yellow flowers + Number of purple flowers + Number of green flowers\\nTotal number of flowers = 10 + 18 + 7 = 35. #### 35</td>\n",
       "    </tr>\n",
       "  </tbody>\n",
       "</table>\n",
       "</div>"
      ],
      "text/plain": [
       "                                                                                                                                                                                                                                                                                                                                                                                                                                                                                                                                                                                                                                                                                                                                                                                                                                                                                                                                                                                                                                                                                                                                                                                                                                                                                                                                                                                                                                                                                                                                                                                                                                                                                                                                                                                                                                                                                                                                                                                                                                                                                                                                                                                                                                                                                                                                                                                                                                                                                                                                                                question  \\\n",
       "0                                                                                                                            \\n    You are a math problem solver. For each problem, show your work step-by-step and use the following format:\\n\\n    1. Write each calculation step clearly\\n    2. For any arithmetic operation, show it in double angle brackets with the calculation and result: <<calculation=result>>\\n    3. End your response with \"#### [final_answer]\" where final_answer is just the numerical result\\n\\n    Example:\\n    Problem:  James is a first-year student at a University in Chicago. He has a budget of $1000 per semester. He spends 30% of his money on food, 15% on accommodation, 25% on entertainment, and the rest on coursework materials. How much money does he spend on coursework materials?\\n    Response: Accommodation is 15% * $1000=$<<15*.01*1000=150>>150 Food is 30% * $1000=$<<30*.01*1000=300>>300 Entertainment is 25% * $1000=$<<25*.01*1000=250>>250 Coursework materials are thus $1000-($150+$300+$250) = $300 #### 300\\n\\n    Always show intermediate calculations in the <<calculation=result>> format and conclude with #### followed by the final numerical answer.\\n\\n    Solve this problem:\\n\\n\\n    You are a math problem solver. For each problem, show your work step-by-step and use the following format:\\n\\n    1. Write each calculation step clearly\\n    2. For any arithmetic operation, show it in double angle brackets with the calculation and result: <<calculation=result>>\\n    3. End your response with \"#### [final_answer]\" where final_answer is just the numerical result\\n\\n    Example:\\n    Problem:  James is a first-year student at a University in Chicago. He has a budget of $1000 per semester. He spends 30% of his money on food, 15% on accommodation, 25% on entertainment, and the rest on coursework materials. How much money does he spend on coursework materials?\\n    Response: Accommodation is 15% * $1000=$<<15*.01*1000=150>>150 Food is 30% * $1000=$<<30*.01*1000=300>>300 Entertainment is 25% * $1000=$<<25*.01*1000=250>>250 Coursework materials are thus $1000-($150+$300+$250) = $300 #### 300\\n\\n    Always show intermediate calculations in the <<calculation=result>> format and conclude with #### followed by the final numerical answer.\\n\\n    Solve this problem:\\n\\nNatalia sold clips to 48 of her friends in April, and then she sold half as many clips in May. How many clips did Natalia sell altogether in April and May?   \n",
       "1                                                                                                                                                                      \\n    You are a math problem solver. For each problem, show your work step-by-step and use the following format:\\n\\n    1. Write each calculation step clearly\\n    2. For any arithmetic operation, show it in double angle brackets with the calculation and result: <<calculation=result>>\\n    3. End your response with \"#### [final_answer]\" where final_answer is just the numerical result\\n\\n    Example:\\n    Problem:  James is a first-year student at a University in Chicago. He has a budget of $1000 per semester. He spends 30% of his money on food, 15% on accommodation, 25% on entertainment, and the rest on coursework materials. How much money does he spend on coursework materials?\\n    Response: Accommodation is 15% * $1000=$<<15*.01*1000=150>>150 Food is 30% * $1000=$<<30*.01*1000=300>>300 Entertainment is 25% * $1000=$<<25*.01*1000=250>>250 Coursework materials are thus $1000-($150+$300+$250) = $300 #### 300\\n\\n    Always show intermediate calculations in the <<calculation=result>> format and conclude with #### followed by the final numerical answer.\\n\\n    Solve this problem:\\n\\n\\n    You are a math problem solver. For each problem, show your work step-by-step and use the following format:\\n\\n    1. Write each calculation step clearly\\n    2. For any arithmetic operation, show it in double angle brackets with the calculation and result: <<calculation=result>>\\n    3. End your response with \"#### [final_answer]\" where final_answer is just the numerical result\\n\\n    Example:\\n    Problem:  James is a first-year student at a University in Chicago. He has a budget of $1000 per semester. He spends 30% of his money on food, 15% on accommodation, 25% on entertainment, and the rest on coursework materials. How much money does he spend on coursework materials?\\n    Response: Accommodation is 15% * $1000=$<<15*.01*1000=150>>150 Food is 30% * $1000=$<<30*.01*1000=300>>300 Entertainment is 25% * $1000=$<<25*.01*1000=250>>250 Coursework materials are thus $1000-($150+$300+$250) = $300 #### 300\\n\\n    Always show intermediate calculations in the <<calculation=result>> format and conclude with #### followed by the final numerical answer.\\n\\n    Solve this problem:\\n\\nWeng earns $12 an hour for babysitting. Yesterday, she just did 50 minutes of babysitting. How much did she earn?   \n",
       "2                   \\n    You are a math problem solver. For each problem, show your work step-by-step and use the following format:\\n\\n    1. Write each calculation step clearly\\n    2. For any arithmetic operation, show it in double angle brackets with the calculation and result: <<calculation=result>>\\n    3. End your response with \"#### [final_answer]\" where final_answer is just the numerical result\\n\\n    Example:\\n    Problem:  James is a first-year student at a University in Chicago. He has a budget of $1000 per semester. He spends 30% of his money on food, 15% on accommodation, 25% on entertainment, and the rest on coursework materials. How much money does he spend on coursework materials?\\n    Response: Accommodation is 15% * $1000=$<<15*.01*1000=150>>150 Food is 30% * $1000=$<<30*.01*1000=300>>300 Entertainment is 25% * $1000=$<<25*.01*1000=250>>250 Coursework materials are thus $1000-($150+$300+$250) = $300 #### 300\\n\\n    Always show intermediate calculations in the <<calculation=result>> format and conclude with #### followed by the final numerical answer.\\n\\n    Solve this problem:\\n\\n\\n    You are a math problem solver. For each problem, show your work step-by-step and use the following format:\\n\\n    1. Write each calculation step clearly\\n    2. For any arithmetic operation, show it in double angle brackets with the calculation and result: <<calculation=result>>\\n    3. End your response with \"#### [final_answer]\" where final_answer is just the numerical result\\n\\n    Example:\\n    Problem:  James is a first-year student at a University in Chicago. He has a budget of $1000 per semester. He spends 30% of his money on food, 15% on accommodation, 25% on entertainment, and the rest on coursework materials. How much money does he spend on coursework materials?\\n    Response: Accommodation is 15% * $1000=$<<15*.01*1000=150>>150 Food is 30% * $1000=$<<30*.01*1000=300>>300 Entertainment is 25% * $1000=$<<25*.01*1000=250>>250 Coursework materials are thus $1000-($150+$300+$250) = $300 #### 300\\n\\n    Always show intermediate calculations in the <<calculation=result>> format and conclude with #### followed by the final numerical answer.\\n\\n    Solve this problem:\\n\\nBetty is saving money for a new wallet which costs $100. Betty has only half of the money she needs. Her parents decided to give her $15 for that purpose, and her grandparents twice as much as her parents. How much more money does Betty need to buy the wallet?   \n",
       "3                                                            \\n    You are a math problem solver. For each problem, show your work step-by-step and use the following format:\\n\\n    1. Write each calculation step clearly\\n    2. For any arithmetic operation, show it in double angle brackets with the calculation and result: <<calculation=result>>\\n    3. End your response with \"#### [final_answer]\" where final_answer is just the numerical result\\n\\n    Example:\\n    Problem:  James is a first-year student at a University in Chicago. He has a budget of $1000 per semester. He spends 30% of his money on food, 15% on accommodation, 25% on entertainment, and the rest on coursework materials. How much money does he spend on coursework materials?\\n    Response: Accommodation is 15% * $1000=$<<15*.01*1000=150>>150 Food is 30% * $1000=$<<30*.01*1000=300>>300 Entertainment is 25% * $1000=$<<25*.01*1000=250>>250 Coursework materials are thus $1000-($150+$300+$250) = $300 #### 300\\n\\n    Always show intermediate calculations in the <<calculation=result>> format and conclude with #### followed by the final numerical answer.\\n\\n    Solve this problem:\\n\\n\\n    You are a math problem solver. For each problem, show your work step-by-step and use the following format:\\n\\n    1. Write each calculation step clearly\\n    2. For any arithmetic operation, show it in double angle brackets with the calculation and result: <<calculation=result>>\\n    3. End your response with \"#### [final_answer]\" where final_answer is just the numerical result\\n\\n    Example:\\n    Problem:  James is a first-year student at a University in Chicago. He has a budget of $1000 per semester. He spends 30% of his money on food, 15% on accommodation, 25% on entertainment, and the rest on coursework materials. How much money does he spend on coursework materials?\\n    Response: Accommodation is 15% * $1000=$<<15*.01*1000=150>>150 Food is 30% * $1000=$<<30*.01*1000=300>>300 Entertainment is 25% * $1000=$<<25*.01*1000=250>>250 Coursework materials are thus $1000-($150+$300+$250) = $300 #### 300\\n\\n    Always show intermediate calculations in the <<calculation=result>> format and conclude with #### followed by the final numerical answer.\\n\\n    Solve this problem:\\n\\nJulie is reading a 120-page book. Yesterday, she was able to read 12 pages and today, she read twice as many pages as yesterday. If she wants to read half of the remaining pages tomorrow, how many pages should she read?   \n",
       "4                                                                                                                                                                                \\n    You are a math problem solver. For each problem, show your work step-by-step and use the following format:\\n\\n    1. Write each calculation step clearly\\n    2. For any arithmetic operation, show it in double angle brackets with the calculation and result: <<calculation=result>>\\n    3. End your response with \"#### [final_answer]\" where final_answer is just the numerical result\\n\\n    Example:\\n    Problem:  James is a first-year student at a University in Chicago. He has a budget of $1000 per semester. He spends 30% of his money on food, 15% on accommodation, 25% on entertainment, and the rest on coursework materials. How much money does he spend on coursework materials?\\n    Response: Accommodation is 15% * $1000=$<<15*.01*1000=150>>150 Food is 30% * $1000=$<<30*.01*1000=300>>300 Entertainment is 25% * $1000=$<<25*.01*1000=250>>250 Coursework materials are thus $1000-($150+$300+$250) = $300 #### 300\\n\\n    Always show intermediate calculations in the <<calculation=result>> format and conclude with #### followed by the final numerical answer.\\n\\n    Solve this problem:\\n\\n\\n    You are a math problem solver. For each problem, show your work step-by-step and use the following format:\\n\\n    1. Write each calculation step clearly\\n    2. For any arithmetic operation, show it in double angle brackets with the calculation and result: <<calculation=result>>\\n    3. End your response with \"#### [final_answer]\" where final_answer is just the numerical result\\n\\n    Example:\\n    Problem:  James is a first-year student at a University in Chicago. He has a budget of $1000 per semester. He spends 30% of his money on food, 15% on accommodation, 25% on entertainment, and the rest on coursework materials. How much money does he spend on coursework materials?\\n    Response: Accommodation is 15% * $1000=$<<15*.01*1000=150>>150 Food is 30% * $1000=$<<30*.01*1000=300>>300 Entertainment is 25% * $1000=$<<25*.01*1000=250>>250 Coursework materials are thus $1000-($150+$300+$250) = $300 #### 300\\n\\n    Always show intermediate calculations in the <<calculation=result>> format and conclude with #### followed by the final numerical answer.\\n\\n    Solve this problem:\\n\\nJames writes a 3-page letter to 2 different friends twice a week.  How many pages does he write a year?   \n",
       "5  \\n    You are a math problem solver. For each problem, show your work step-by-step and use the following format:\\n\\n    1. Write each calculation step clearly\\n    2. For any arithmetic operation, show it in double angle brackets with the calculation and result: <<calculation=result>>\\n    3. End your response with \"#### [final_answer]\" where final_answer is just the numerical result\\n\\n    Example:\\n    Problem:  James is a first-year student at a University in Chicago. He has a budget of $1000 per semester. He spends 30% of his money on food, 15% on accommodation, 25% on entertainment, and the rest on coursework materials. How much money does he spend on coursework materials?\\n    Response: Accommodation is 15% * $1000=$<<15*.01*1000=150>>150 Food is 30% * $1000=$<<30*.01*1000=300>>300 Entertainment is 25% * $1000=$<<25*.01*1000=250>>250 Coursework materials are thus $1000-($150+$300+$250) = $300 #### 300\\n\\n    Always show intermediate calculations in the <<calculation=result>> format and conclude with #### followed by the final numerical answer.\\n\\n    Solve this problem:\\n\\n\\n    You are a math problem solver. For each problem, show your work step-by-step and use the following format:\\n\\n    1. Write each calculation step clearly\\n    2. For any arithmetic operation, show it in double angle brackets with the calculation and result: <<calculation=result>>\\n    3. End your response with \"#### [final_answer]\" where final_answer is just the numerical result\\n\\n    Example:\\n    Problem:  James is a first-year student at a University in Chicago. He has a budget of $1000 per semester. He spends 30% of his money on food, 15% on accommodation, 25% on entertainment, and the rest on coursework materials. How much money does he spend on coursework materials?\\n    Response: Accommodation is 15% * $1000=$<<15*.01*1000=150>>150 Food is 30% * $1000=$<<30*.01*1000=300>>300 Entertainment is 25% * $1000=$<<25*.01*1000=250>>250 Coursework materials are thus $1000-($150+$300+$250) = $300 #### 300\\n\\n    Always show intermediate calculations in the <<calculation=result>> format and conclude with #### followed by the final numerical answer.\\n\\n    Solve this problem:\\n\\nMark has a garden with flowers. He planted plants of three different colors in it. Ten of them are yellow, and there are 80% more of those in purple. There are only 25% as many green flowers as there are yellow and purple flowers. How many flowers does Mark have in his garden?   \n",
       "\n",
       "                                                                                                                                                                                                                                                                                                                                                                                             answer  \\\n",
       "0                                                                                                                                                                                                                                                                  Natalia sold 48/2 = <<48/2=24>>24 clips in May.\\nNatalia sold 48+24 = <<48+24=72>>72 clips altogether in April and May.\\n#### 72   \n",
       "1                                                                                                                                                                                                                                                                            Weng earns 12/60 = $<<12/60=0.2>>0.2 per minute.\\nWorking 50 minutes, she earned 0.2 x 50 = $<<0.2*50=10>>10.\\n#### 10   \n",
       "2                                                                                                                                                                                              In the beginning, Betty has only 100 / 2 = $<<100/2=50>>50.\\nBetty's grandparents gave her 15 * 2 = $<<15*2=30>>30.\\nThis means, Betty needs 100 - 50 - 30 - 15 = $<<100-50-30-15=5>>5 more.\\n#### 5   \n",
       "3                                                                          Maila read 12 x 2 = <<12*2=24>>24 pages today.\\nSo she was able to read a total of 12 + 24 = <<12+24=36>>36 pages since yesterday.\\nThere are 120 - 36 = <<120-36=84>>84 pages left to be read.\\nSince she wants to read half of the remaining pages tomorrow, then she should read 84/2 = <<84/2=42>>42 pages.\\n#### 42   \n",
       "4                                                                                                                                                                                                                             He writes each friend 3*2=<<3*2=6>>6 pages a week\\nSo he writes 6*2=<<6*2=12>>12 pages every week\\nThat means he writes 12*52=<<12*52=624>>624 pages a year\\n#### 624   \n",
       "5  There are 80/100 * 10 = <<80/100*10=8>>8 more purple flowers than yellow flowers.\\nSo in Mark's garden, there are 10 + 8 = <<10+8=18>>18 purple flowers.\\nPurple and yellow flowers sum up to 10 + 18 = <<10+18=28>>28 flowers.\\nThat means in Mark's garden there are 25/100 * 28 = <<25/100*28=7>>7 green flowers.\\nSo in total Mark has 28 + 7 = <<28+7=35>>35 plants in his garden.\\n#### 35   \n",
       "\n",
       "                                                                                                                                                                                                                                                                                                                                                                                                                                                                                                                                                                                                                                                                                                                                                                                          claude  \\\n",
       "0                                                                                                                                                                                                                                                                                                                 I need to find the total number of clips Natalia sold in April and May.\\n\\nFirst, let me identify what I know:\\n- In April, Natalia sold clips to 48 friends\\n- In May, she sold half as many clips as in April\\n\\nLet me calculate the number of clips sold in May:\\nMay sales = half of April sales = 48 ÷ 2 = <<48/2=24>>24 clips\\n\\nNow I can find the total clips sold in both months:\\nTotal clips = April clips + May clips = 48 + 24 = <<48+24=72>>72 clips\\n\\n#### 72   \n",
       "1                                                                                                                                                                                                                                                                                                                                                                                                                                                         I need to calculate how much Weng earned for 50 minutes of babysitting at $12 per hour.\\n\\nFirst, I'll convert 50 minutes to hours:\\n50 minutes = 50/60 hours = <<50/60=0.8333>>0.8333 hours\\n\\nNow I'll calculate her earnings:\\nEarnings = hourly rate × hours worked\\nEarnings = $12 × 0.8333 hours = <<12*0.8333=10>>10\\n\\n#### 10   \n",
       "2  I need to find how much more money Betty needs to buy the $100 wallet.\\n\\nFirst, let me find how much money Betty currently has:\\nBetty has half of what she needs for the $100 wallet.\\nBetty's current money = $<<100/2=50>>50\\n\\nNext, let me calculate how much her parents give her:\\nParents give Betty = $15\\n\\nNow, let me calculate how much her grandparents give her:\\nGrandparents give twice as much as parents = $<<2*15=30>>30\\n\\nLet me find Betty's total money after receiving gifts:\\nTotal money = Betty's current money + parents' gift + grandparents' gift\\nTotal money = $<<50+15+30=95>>95\\n\\nFinally, let me calculate how much more money Betty needs:\\nMoney still needed = Cost of wallet - Total money Betty has\\nMoney still needed = $<<100-95=5>>5\\n\\n#### 5   \n",
       "3                                                       I need to find how many pages Julie should read tomorrow, which is half of the remaining pages after yesterday and today.\\n\\nFirst, let me calculate how many pages Julie read today:\\nToday she read twice as many pages as yesterday, so she read 2 × 12 = <<2*12=24>>24 pages.\\n\\nNext, let me find the total pages read so far:\\nTotal pages read = yesterday's pages + today's pages = 12 + 24 = <<12+24=36>>36 pages.\\n\\nNow I'll calculate the remaining pages:\\nRemaining pages = total pages in book - pages already read = 120 - 36 = <<120-36=84>>84 pages.\\n\\nFinally, I'll find how many pages she should read tomorrow:\\nTomorrow she wants to read half of the remaining pages = 84 ÷ 2 = <<84/2=42>>42 pages.\\n\\n#### 42   \n",
       "4                                                                                                                                I need to find the total number of pages James writes in a year.\\n\\nLet me break this down step by step:\\n\\nFirst, I'll calculate how many pages he writes per letter:\\n- Each letter is 3 pages\\n\\nNext, I'll calculate how many letters he writes per week:\\n- He writes to 2 different friends\\n- He does this twice a week\\n- So total letters per week = <<2*2=4>>4 letters\\n\\nNow I'll calculate pages per week:\\n- Pages per week = 4 letters × 3 pages per letter = <<4*3=12>>12 pages\\n\\nFinally, I'll calculate pages per year:\\n- There are 52 weeks in a year\\n- Pages per year = 12 pages per week × 52 weeks = <<12*52=624>>624 pages\\n\\n#### 624   \n",
       "5             I need to find the total number of flowers in Mark's garden by calculating the number of each color.\\n\\nFirst, let me find the number of yellow flowers:\\nYellow flowers = 10\\n\\nNext, let me find the number of purple flowers:\\nPurple flowers are 80% more than yellow flowers.\\n80% of yellow flowers = <<80*0.01*10=8>>8\\nPurple flowers = yellow flowers + 80% more = <<10+8=18>>18\\n\\nNow let me find the total of yellow and purple flowers:\\nYellow + Purple = <<10+18=28>>28\\n\\nNext, let me find the number of green flowers:\\nGreen flowers are 25% of the total yellow and purple flowers.\\nGreen flowers = 25% of 28 = <<25*0.01*28=7>>7\\n\\nFinally, let me find the total number of flowers:\\nTotal flowers = Yellow + Purple + Green = <<10+18+7=35>>35\\n\\n#### 35   \n",
       "\n",
       "                                                                                                                                                                                                                                                                                                                                                                                                                                                                                                                                   qwen  \\\n",
       "0                                                                                                                                                                                                                                                                                                                    Natalia sold 48 clips in April.  \\nIn May, she sold half as many clips as in April.  \\n\\nClips sold in May = 48 ÷ 2 = <<48/2=24>>24  \\n\\nTotal clips sold in April and May = 48 + 24 = <<48+24=72>>72  \\n\\n#### 72   \n",
       "1                                                                                                                                                                                                                                          Weng earns $12 per hour.  \\nShe worked for 50 minutes, which is less than an hour.  \\nFirst, convert 50 minutes to hours:  \\n<<50/60=0.8333>>0.8333 hours (approximately).\\n\\nNow, multiply her hourly rate by the time worked:  \\n<<12 * 0.8333 = 10>>  \\n\\nSo, Weng earned $10.  \\n#### 10   \n",
       "2                                                                                                                                                                       Betty needs $100 for the wallet.  \\nShe currently has half of the money needed:  \\n<<100 * 0.5 = 50>>50  \\n\\nHer parents give her $15:  \\n<<15 = 15>>15  \\n\\nHer grandparents give her twice as much as her parents:  \\n<<2 * 15 = 30>>30  \\n\\nTotal money Betty now has:  \\n<<50 + 15 + 30 = 95>>95  \\n\\nAmount still needed:  \\n<<100 - 95 = 5>>5  \\n\\n#### 5   \n",
       "3                                                                                                                                Julie's book has 120 pages in total.  \\nYesterday, she read 12 pages.  \\nToday, she read twice as many pages as yesterday, so today she read:  \\n<<2 * 12 = 24>>24 pages  \\n\\nTotal pages read so far:  \\n<<12 + 24 = 36>>36 pages  \\n\\nRemaining pages in the book:  \\n<<120 - 36 = 84>>84 pages  \\n\\nShe wants to read half of the remaining pages tomorrow:  \\n<<84 / 2 = 42>>42 pages  \\n\\n#### 42   \n",
       "4                                                                                                                                               James writes a 3-page letter to 2 different friends, so per writing session, he writes:  \\n3 pages × 2 friends = <<3*2=6>>6 pages  \\n\\nHe does this twice a week, so per week he writes:  \\n6 pages × 2 = <<6*2=12>>12 pages  \\n\\nThere are 52 weeks in a year, so the total number of pages he writes in a year is:  \\n12 pages/week × 52 weeks = <<12*52=624>>624 pages  \\n\\n#### 624   \n",
       "5  Yellow flowers: 10\\n\\nPurple flowers: There are 80% more purple flowers than yellow flowers.  \\nSo, number of purple flowers = 10 + (80% of 10)  \\n<<80*.01*10=8>>  \\n<<10+8=18>>  \\nSo, there are 18 purple flowers.\\n\\nTotal yellow and purple flowers = 10 + 18  \\n<<10+18=28>>\\n\\nGreen flowers: There are 25% as many green flowers as there are yellow and purple flowers combined.  \\n<<25*.01*28=7>>  \\nSo, there are 7 green flowers.\\n\\nTotal flowers in the garden = yellow + purple + green  \\n<<10+18+7=35>>\\n\\n#### 35   \n",
       "\n",
       "                                                                                                                                                                                                                                                                                                                                                                                                                                                                                                                                                                                                                                           gemini  \n",
       "0                                                                                                                                                                                                                                                                                                             Natalia sold 48 clips in April.\\nIn May, she sold half as many clips as in April.\\n\\nNumber of clips sold in May = <<48/2=24>>24\\n\\nTotal number of clips sold altogether in April and May = Number of clips sold in April + Number of clips sold in May.\\nTotal clips sold = 48 + 24\\n\\nTotal clips sold = <<48+24=72>>72\\n#### 72  \n",
       "1                                                                                                                                                                                                         Weng earns $12 per hour.\\nFirst, convert the minutes of babysitting to hours.\\nThere are 60 minutes in an hour.\\nSo, 50 minutes is <<50/60=0.8333333333333334>>0.8333333333333334 hours.\\nNow, calculate Weng's earnings by multiplying her hourly rate by the number of hours she worked.\\nEarnings = Hourly Rate × Hours Worked\\nEarnings = $12/hour × 0.8333333333333334 hours\\nEarnings = <<12*0.8333333333333334=10>>10\\n\\n#### 10  \n",
       "2                                                                                           Betty needs $100 for the wallet.\\nBetty has half of the money she needs, which is $100 / 2 = $<<100/2=50>>50.\\n\\nHer parents give her $15.\\nHer grandparents give her twice as much as her parents, which is $15 * 2 = $<<15*2=30>>30.\\n\\nThe total amount of money Betty has now is the money she initially had plus the money from her parents and grandparents: $50 + $15 + $30 = $<<50+15+30=95>>95.\\n\\nThe amount of money Betty still needs is the cost of the wallet minus the money she currently has: $100 - $95 = $<<100-95=5>>5.\\n\\n#### 5  \n",
       "3                                                                                               Yesterday, Julie read 12 pages.\\nToday, she read twice as many pages as yesterday.\\nNumber of pages read today = <<2 * 12=24>>24 pages.\\n\\nTotal pages read so far = Pages read yesterday + Pages read today\\nTotal pages read so far = <<12 + 24=36>>36 pages.\\n\\nTotal pages in the book is 120 pages.\\nRemaining pages = Total pages - Total pages read so far\\nRemaining pages = <<120 - 36=84>>84 pages.\\n\\nTomorrow, Julie wants to read half of the remaining pages.\\nNumber of pages to read tomorrow = <<84 / 2=42>>42 pages.\\n\\n#### 42  \n",
       "4                                                                                             James writes a 3-page letter to 2 friends.\\nThis means for each friend, he writes 3 pages.\\nTotal pages per letter to one friend = 3 pages.\\n\\nHe writes to 2 different friends.\\nTotal pages written to both friends for one writing session = 3 pages/friend * 2 friends <<3*2=6>> 6 pages.\\n\\nHe writes twice a week.\\nTotal pages written per week = 6 pages/session * 2 sessions/week <<6*2=12>> 12 pages.\\n\\nThere are 52 weeks in a year.\\nTotal pages written per year = 12 pages/week * 52 weeks/year <<12*52=624>> 624 pages.\\n\\n#### 624  \n",
       "5  Number of yellow flowers = 10.\\nNumber of purple flowers is 80% more than the yellow flowers.\\nIncrease in purple flowers = 80% of 10 = <<0.80 * 10 = 8>>8\\nNumber of purple flowers = Number of yellow flowers + Increase in purple flowers = 10 + 8 = 18.\\nTotal number of yellow and purple flowers = 10 + 18 = 28.\\nNumber of green flowers is 25% of the total number of yellow and purple flowers.\\nNumber of green flowers = 25% of 28 = <<0.25 * 28 = 7>>7\\nTotal number of flowers in the garden = Number of yellow flowers + Number of purple flowers + Number of green flowers\\nTotal number of flowers = 10 + 18 + 7 = 35. #### 35  "
      ]
     },
     "metadata": {},
     "output_type": "display_data"
    }
   ],
   "source": [
    "# Set up configs for each model we want to compare\n",
    "config_claude = LLMConfigs.openrouter(model=\"anthropic/claude-sonnet-4\")\n",
    "config_gemini = LLMConfigs.openrouter(model=\"google/gemini-2.5-flash-lite\")\n",
    "config_qwen = LLMConfigs.openrouter(model=\"qwen/qwen3-235b-a22b-2507\")\n",
    "\n",
    "# Set up BatchProcess for each\n",
    "processor_claude = BatchProcessor(llm_config=config_claude)\n",
    "processor_qwen = BatchProcessor(llm_config=config_qwen)\n",
    "processor_gemini = BatchProcessor(llm_config=config_gemini)\n",
    "\n",
    "# Run each model sequentially\n",
    "tasks = await processor_claude.process_dataframe(tasks, \n",
    "                                                   prompt_column='question', \n",
    "                                                   output_column_name='claude')\n",
    "tasks = await processor_qwen.process_dataframe(tasks, \n",
    "                                                   prompt_column='question', \n",
    "                                                   output_column_name='qwen')\n",
    "tasks = await processor_gemini.process_dataframe(tasks, \n",
    "                                                   prompt_column='question', \n",
    "                                                   output_column_name='gemini')\n",
    "\n",
    "display(tasks)"
   ]
  }
 ],
 "metadata": {
  "kernelspec": {
   "display_name": "Python 3 (ipykernel)",
   "language": "python",
   "name": "python3"
  },
  "language_info": {
   "codemirror_mode": {
    "name": "ipython",
    "version": 3
   },
   "file_extension": ".py",
   "mimetype": "text/x-python",
   "name": "python",
   "nbconvert_exporter": "python",
   "pygments_lexer": "ipython3",
   "version": "3.12.2"
  }
 },
 "nbformat": 4,
 "nbformat_minor": 5
}
